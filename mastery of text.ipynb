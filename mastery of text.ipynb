{
 "cells": [
  {
   "cell_type": "code",
   "execution_count": 1,
   "id": "c9ec33eb-3c88-43fb-98da-e14871c51bf9",
   "metadata": {},
   "outputs": [],
   "source": [
    "import urllib.request\n",
    "url = \"https://www.gutenberg.org/cache/epub/10/pg10.txt\"\n",
    "with urllib.request.urlopen(url) as response:\n",
    "    pg10 = response.read().decode(\"utf-8\")"
   ]
  },
  {
   "cell_type": "code",
   "execution_count": 2,
   "id": "3439ba8a-bb73-4077-bb13-a8a67ec7a4a9",
   "metadata": {},
   "outputs": [
    {
     "name": "stdout",
     "output_type": "stream",
     "text": [
      "Number of lines: 99968\n"
     ]
    }
   ],
   "source": [
    "num_lines = len(pg10.splitlines())\n",
    "print(\"Number of lines:\", num_lines)"
   ]
  },
  {
   "cell_type": "code",
   "execution_count": 3,
   "id": "0fde652c-6844-4521-b9c7-264c3f158ff8",
   "metadata": {},
   "outputs": [
    {
     "name": "stdout",
     "output_type": "stream",
     "text": [
      "Word Count: 795227\n"
     ]
    }
   ],
   "source": [
    "word_count = 0\n",
    "in_word = False\n",
    "\n",
    "for char in pg10:\n",
    "    if char.isalpha():\n",
    "        if not in_word:\n",
    "            word_count += 1\n",
    "            in_word = True\n",
    "\n",
    "    else:\n",
    "        in_word = False\n",
    "\n",
    "print(\"Word Count:\", word_count)"
   ]
  },
  {
   "cell_type": "code",
   "execution_count": 7,
   "id": "a2664301-668d-4f49-99b1-ffa66f43f68e",
   "metadata": {},
   "outputs": [],
   "source": [
    "words = pg10.split()\n",
    "words_lower = [word.lower().strip(\".,;:!?\\\"'()[]\") for word in words]"
   ]
  },
  {
   "cell_type": "code",
   "execution_count": 8,
   "id": "8cdecc6a-a9a0-4dfb-8637-2e7f35058fa0",
   "metadata": {},
   "outputs": [
    {
     "name": "stdout",
     "output_type": "stream",
     "text": [
      "Occurrences of 'apostle': 47\n"
     ]
    }
   ],
   "source": [
    "apostle_count = words_lower.count(\"apostle\")\n",
    "print(\"Occurrences of 'apostle':\", apostle_count)"
   ]
  },
  {
   "cell_type": "code",
   "execution_count": 9,
   "id": "653bce2e-a279-4d3c-a85e-ea78f6cf8598",
   "metadata": {},
   "outputs": [
    {
     "name": "stdout",
     "output_type": "stream",
     "text": [
      "Occurencces of 'apostle' in the string: 113\n"
     ]
    }
   ],
   "source": [
    "pg10 = pg10.lower()\n",
    "print(\"Occurencces of 'apostle' in the string:\", pg10.count(\"apostle\"))"
   ]
  },
  {
   "cell_type": "code",
   "execution_count": 10,
   "id": "5b42e19d-911e-4bdc-ba60-e2a2cdd9e980",
   "metadata": {},
   "outputs": [
    {
     "name": "stdout",
     "output_type": "stream",
     "text": [
      "Most common word: 'the' (64306 times)\n"
     ]
    }
   ],
   "source": [
    "word_counts = {}\n",
    "\n",
    "for word in words_lower:\n",
    "    word_counts[word] = word_counts.get(word, 0) + 1\n",
    "\n",
    "most_common_word = max(word_counts, key=word_counts.get)\n",
    "most_common_count = word_counts[most_common_word]\n",
    "\n",
    "print(\"Most common word:\", repr(most_common_word), f\"({most_common_count} times)\")"
   ]
  },
  {
   "cell_type": "code",
   "execution_count": null,
   "id": "a8d2c79d-1305-4a1a-8132-19bb2a17ac51",
   "metadata": {},
   "outputs": [],
   "source": []
  }
 ],
 "metadata": {
  "kernelspec": {
   "display_name": "Python [conda env:base] *",
   "language": "python",
   "name": "conda-base-py"
  },
  "language_info": {
   "codemirror_mode": {
    "name": "ipython",
    "version": 3
   },
   "file_extension": ".py",
   "mimetype": "text/x-python",
   "name": "python",
   "nbconvert_exporter": "python",
   "pygments_lexer": "ipython3",
   "version": "3.12.7"
  }
 },
 "nbformat": 4,
 "nbformat_minor": 5
}
